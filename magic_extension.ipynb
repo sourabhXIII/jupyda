{
 "cells": [
  {
   "cell_type": "code",
   "execution_count": 1,
   "metadata": {},
   "outputs": [],
   "source": [
    "from IPython.core.magic import (register_line_magic, register_cell_magic,\n",
    "                                register_line_cell_magic)\n",
    "\n",
    "@register_line_magic\n",
    "def lmagic(line):\n",
    "    \"my line magic\"\n",
    "    return line\n",
    "\n",
    "@register_cell_magic\n",
    "def cmagic(line, cell):\n",
    "    \"my cell magic\"\n",
    "    return line, cell\n",
    "\n",
    "@register_line_cell_magic\n",
    "def lcmagic(line, cell=None):\n",
    "    \"Magic that works both as %lcmagic and as %%lcmagic\"\n",
    "    if cell is None:\n",
    "        print(\"Called as line magic\")\n",
    "        return line\n",
    "    else:\n",
    "        print(\"Called as cell magic\")\n",
    "        return line, cell\n",
    "\n",
    "# In an interactive session, we need to delete these to avoid\n",
    "# name conflicts for automagic to work on line magics.\n",
    "del lmagic, lcmagic"
   ]
  },
  {
   "cell_type": "code",
   "execution_count": 9,
   "metadata": {},
   "outputs": [
    {
     "data": {
      "text/plain": [
       "('', \"'abc'\\n'def'\\n\")"
      ]
     },
     "execution_count": 9,
     "metadata": {},
     "output_type": "execute_result"
    }
   ],
   "source": [
    "%%cmagic\n",
    "'abc'\n",
    "'def'"
   ]
  },
  {
   "cell_type": "code",
   "execution_count": 11,
   "metadata": {},
   "outputs": [
    {
     "data": {
      "text/plain": [
       "'def'"
      ]
     },
     "execution_count": 11,
     "metadata": {},
     "output_type": "execute_result"
    }
   ],
   "source": [
    "%lmagic\n",
    "'abc'\n",
    "'def'"
   ]
  },
  {
   "cell_type": "code",
   "execution_count": 12,
   "metadata": {},
   "outputs": [
    {
     "name": "stdout",
     "output_type": "stream",
     "text": [
      "Called as cell magic\n"
     ]
    },
    {
     "data": {
      "text/plain": [
       "('', \"'abc'\\n'def'\\n\")"
      ]
     },
     "execution_count": 12,
     "metadata": {},
     "output_type": "execute_result"
    }
   ],
   "source": [
    "%%lcmagic\n",
    "'abc'\n",
    "'def'"
   ]
  },
  {
   "cell_type": "code",
   "execution_count": 160,
   "metadata": {},
   "outputs": [],
   "source": [
    "import os\n",
    "import subprocess\n",
    "import argparse\n",
    "from subprocess import CalledProcessError\n",
    "from IPython.core.magic import (Magics, magics_class, cell_magic)\n",
    "from IPython.core.magic_arguments import argument, magic_arguments, parse_argstring\n",
    "\n",
    "# idea is this:\n",
    "# for each cell with jupyda cell magic will be saved as a file in project folder\n",
    "# the project will be compiled\n",
    "# and run by main() function\n",
    "# this is where nvcc lies\n",
    "compiler = 'gcc'\n",
    "\n",
    "def print_byte_stream(bstream):\n",
    "    for line in bstream.decode().split('\\n'):\n",
    "        print(line)\n",
    "\n",
    "\n",
    "@magics_class\n",
    "class Jupyda(Magics):\n",
    "    def __init__(self, shell):\n",
    "        super(Jupyda, self).__init__(shell)\n",
    "        \n",
    "        # current working directory\n",
    "        self.cwd = os.getcwd()\n",
    "        \n",
    "        # this is the project folder to save all the source file\n",
    "        self.src = os.path.join(self.cwd, 'src')\n",
    "        \n",
    "        # create the folder\n",
    "        if not os.path.exists(self.src):\n",
    "            os.mkdir(self.src)\n",
    "        \n",
    "        # we will use a common file name for all the compiled files (like a.out)\n",
    "        # self.aout = os.path.join(self.cwd, 'aout.o')\n",
    "        self.aout = r'aout.o'\n",
    "        \n",
    "        \n",
    "    @staticmethod\n",
    "    def compile(src, aout, filepath):\n",
    "        # compile it\n",
    "        # subprocess.check_output([compiler, '-v', '-Wall', '-I='+src, '-o '+aout, filepath]\n",
    "        #    , stderr=subprocess.STDOUT\n",
    "        # )\n",
    "\n",
    "        subprocess.check_output([compiler, '-Wall', '-o '+aout, filepath]\n",
    "            #, shell=True\n",
    "            , stderr=subprocess.STDOUT\n",
    "        )\n",
    "        \n",
    "    @staticmethod\n",
    "    def exec(obj):\n",
    "        output = subprocess.check_output(\n",
    "                ['./'+obj]\n",
    "                , shell=True\n",
    "                , stderr=subprocess.STDOUT)\n",
    "        return output\n",
    "        \n",
    "    \n",
    "    @magic_arguments()\n",
    "    @argument('-n', '--name', type=str, help='entire cell content will be saved in file with this name.')\n",
    "    # @argument('-c', '--compile', type=bool, help='Should be compiled?')\n",
    "    @cell_magic\n",
    "    def nvcc(self, line, cell=None):\n",
    "        # parser for the arguments\n",
    "        args = parse_argstring(self.nvcc, line)\n",
    "        filename = args.name\n",
    "\n",
    "        # write the cell content in a file in our project folder\n",
    "        filepath = os.path.join(self.src, filename)\n",
    "        with open(filepath, \"w\") as f:\n",
    "            f.write(cell)\n",
    "        f.close()\n",
    "        \n",
    "        output = b\"\"\n",
    "        try:\n",
    "            # compile the file\n",
    "            self.compile(self.src, self.aout, filepath)\n",
    "            print(\"======== Compilation successful! ========\")\n",
    "            # run the file\n",
    "            output = self.exec(self.aout)\n",
    "        except CalledProcessError as cpe:\n",
    "            print_byte_stream(cpe.output)\n",
    "            \n",
    "        print_byte_stream(output)\n",
    "\n",
    "            \n",
    "# register the magics function\n",
    "ip = get_ipython()\n",
    "ip.register_magics(Jupyda)"
   ]
  },
  {
   "cell_type": "code",
   "execution_count": 162,
   "metadata": {},
   "outputs": [
    {
     "name": "stdout",
     "output_type": "stream",
     "text": [
      "Undefined symbols for architecture x86_64:\n",
      "  \"_main\", referenced from:\n",
      "     implicit entry/start for main executable\n",
      "ld: symbol(s) not found for architecture x86_64\n",
      "clang: error: linker command failed with exit code 1 (use -v to see invocation)\n",
      "\n",
      "\n"
     ]
    }
   ],
   "source": [
    "%%nvcc -n one.c\n",
    "\n",
    "#include<stdio.h>œ\n",
    "int foo(void) {\n",
    "    printf(\"Hello World!!!\\n\");\n",
    "    return 0;\n",
    "}"
   ]
  },
  {
   "cell_type": "code",
   "execution_count": null,
   "metadata": {},
   "outputs": [],
   "source": []
  }
 ],
 "metadata": {
  "kernelspec": {
   "display_name": "Python 3",
   "language": "python",
   "name": "python3"
  },
  "language_info": {
   "codemirror_mode": {
    "name": "ipython",
    "version": 3
   },
   "file_extension": ".py",
   "mimetype": "text/x-python",
   "name": "python",
   "nbconvert_exporter": "python",
   "pygments_lexer": "ipython3",
   "version": "3.7.3"
  }
 },
 "nbformat": 4,
 "nbformat_minor": 2
}
