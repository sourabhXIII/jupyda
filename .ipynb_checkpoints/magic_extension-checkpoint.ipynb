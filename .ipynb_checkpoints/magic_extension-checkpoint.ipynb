{
 "cells": [
  {
   "cell_type": "code",
   "execution_count": 46,
   "metadata": {},
   "outputs": [],
   "source": [
    "import os\n",
    "import subprocess\n",
    "import argparse\n",
    "from subprocess import CalledProcessError\n",
    "from IPython.core.magic import (Magics, magics_class, cell_magic)\n",
    "from IPython.core.magic_arguments import argument, magic_arguments, parse_argstring\n",
    "\n",
    "# idea is this:\n",
    "# for each cell with jupyda cell magic will be saved as a file in project folder\n",
    "# the project will be compiled\n",
    "# and run by main() function\n",
    "# this is where nvcc lies\n",
    "compiler = '/usr/local/cuda/bin/nvcc'\n",
    "compiler = 'gcc'\n",
    "\n",
    "def print_byte_stream(bstream):\n",
    "    for line in bstream.decode().split('\\n'):\n",
    "        print(line)\n",
    "\n",
    "\n",
    "@magics_class\n",
    "class Colada(Magics):\n",
    "    def __init__(self, shell):\n",
    "        super(Colada, self).__init__(shell)\n",
    "        \n",
    "        # current working directory\n",
    "        self.cwd = os.getcwd()\n",
    "        \n",
    "        # this is the project folder to save all the source file\n",
    "        self.src = os.path.join(self.cwd, 'src')\n",
    "        \n",
    "        # create the folder\n",
    "        if not os.path.exists(self.src):\n",
    "            os.mkdir(self.src)\n",
    "        \n",
    "        # if source file name not given then we will use a generic file name\n",
    "        self.inp = os.path.join(self.src, '4beed3b9c4a886067de0e3a094246f78.c')\n",
    "        \n",
    "        # we will use a common file name for all the compiled files (like a.out)\n",
    "        self.aout = os.path.join(self.src, 'aout.o')\n",
    "        \n",
    "        \n",
    "    @staticmethod\n",
    "    def compile(src, aout, filepath):\n",
    "        # compile it\n",
    "        # subprocess.check_output([compiler, '-v', '-I='+src, '-o='+aout, filepath]\n",
    "        #    , stderr=subprocess.STDOUT\n",
    "        # )\n",
    "\n",
    "        subprocess.check_output([compiler, '-Wall', '-o'+aout, filepath]\n",
    "            , stderr=subprocess.STDOUT\n",
    "        )\n",
    "        \n",
    "    @staticmethod\n",
    "    def exec(obj):\n",
    "        output = subprocess.check_output(\n",
    "                [obj]\n",
    "                , stderr=subprocess.STDOUT)\n",
    "        return output\n",
    "        \n",
    "    \n",
    "    @magic_arguments()\n",
    "    @argument('-n', '--name', type=str, help='entire cell content will be saved in file with this name.')\n",
    "    @argument('-nc', '--no_compile', help='save the file. ideally should be a .h file.', action=\"store_true\")\n",
    "    @cell_magic\n",
    "    def colada(self, line, cell=None):\n",
    "        \"\"\"Saves this cells content in a file with the given name (optional).\n",
    "            Compiles it.\n",
    "            Runs it if not used with -oc argument.\n",
    "        \"\"\"\n",
    "        # parser for the arguments\n",
    "        args = parse_argstring(self.colada, line)\n",
    "        filename = args.name\n",
    "        nc = args.no_compile\n",
    "\n",
    "        if filename is None:\n",
    "            filename=self.inp\n",
    "        \n",
    "        # write the cell content in a file in our project folder\n",
    "        filepath = os.path.join(self.src, filename)\n",
    "        with open(filepath, \"w\") as f:\n",
    "            f.write(cell)\n",
    "        \n",
    "        output = b\"\"\n",
    "        if not nc:\n",
    "            try:\n",
    "                # compile the file\n",
    "                self.compile(self.src, self.aout, filepath)\n",
    "                print(\"======== Compilation successful! ========\")\n",
    "                # run the file\n",
    "                output = self.exec(self.aout)\n",
    "            except CalledProcessError as cpe:\n",
    "                print_byte_stream(cpe.output)\n",
    "            print_byte_stream(output)\n",
    "\n",
    "            \n",
    "# register the magics function\n",
    "ip = get_ipython()\n",
    "ip.register_magics(Colada)"
   ]
  },
  {
   "cell_type": "code",
   "execution_count": 48,
   "metadata": {},
   "outputs": [
    {
     "name": "stdout",
     "output_type": "stream",
     "text": [
      "======== Compilation successful! ========\n",
      "Hello World!!!\n",
      "Hello World!!!\n",
      "\n"
     ]
    }
   ],
   "source": [
    "%%colada -n two.c\n",
    "\n",
    "#include<stdio.h>\n",
    "#include\"one.h\"\n",
    "int main(void) {\n",
    "    printf(\"Hello World!!!\\n\");\n",
    "    foo();\n",
    "    return 0;\n",
    "}"
   ]
  },
  {
   "cell_type": "code",
   "execution_count": 49,
   "metadata": {},
   "outputs": [
    {
     "data": {
      "text/plain": [
       "\u001b[0;31mDocstring:\u001b[0m\n",
       "::\n",
       "\n",
       "  %colada [-n NAME] [-nc]\n",
       "\n",
       "Saves this cells content in a file with the given name (optional).\n",
       "Compiles it.\n",
       "Runs it if not used with -oc argument.\n",
       "\n",
       "optional arguments:\n",
       "  -n NAME, --name NAME  entire cell content will be saved in file with this\n",
       "                        name.\n",
       "  -nc, --no_compile     save the file. ideally should be a .h file.\n",
       "\u001b[0;31mFile:\u001b[0m      ~/sourabhxiii/colada/<ipython-input-46-551ef5dcd4f9>\n"
      ]
     },
     "metadata": {},
     "output_type": "display_data"
    }
   ],
   "source": [
    "%%colada?"
   ]
  },
  {
   "cell_type": "code",
   "execution_count": null,
   "metadata": {},
   "outputs": [],
   "source": []
  }
 ],
 "metadata": {
  "kernelspec": {
   "display_name": "Python 3",
   "language": "python",
   "name": "python3"
  },
  "language_info": {
   "codemirror_mode": {
    "name": "ipython",
    "version": 3
   },
   "file_extension": ".py",
   "mimetype": "text/x-python",
   "name": "python",
   "nbconvert_exporter": "python",
   "pygments_lexer": "ipython3",
   "version": "3.6.8"
  }
 },
 "nbformat": 4,
 "nbformat_minor": 2
}
